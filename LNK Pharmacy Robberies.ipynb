{
 "cells": [
  {
   "cell_type": "code",
   "execution_count": 1,
   "metadata": {
    "collapsed": true
   },
   "outputs": [],
   "source": [
    "import agate"
   ]
  },
  {
   "cell_type": "code",
   "execution_count": 7,
   "metadata": {
    "collapsed": false
   },
   "outputs": [],
   "source": [
    "pharmrobberies = agate.Table.from_csv('Downloads/PharmRob11_16.csv')"
   ]
  },
  {
   "cell_type": "code",
   "execution_count": 8,
   "metadata": {
    "collapsed": false
   },
   "outputs": [
    {
     "name": "stdout",
     "output_type": "stream",
     "text": [
      "|----------------+---------------|\n",
      "|  column_names  | column_types  |\n",
      "|----------------+---------------|\n",
      "|  VICTIM        | Text          |\n",
      "|  ADDRESS       | Date          |\n",
      "|  COMMENTS      | Text          |\n",
      "|  TEAM AREA     | Text          |\n",
      "|  REPORT DATE   | Text          |\n",
      "|  INCIDENT TYPE | Text          |\n",
      "|  CASE NUMBER   | Text          |\n",
      "|  STATUS        | Text          |\n",
      "|----------------+---------------|\n",
      "\n"
     ]
    }
   ],
   "source": [
    "print (pharmrobberies)"
   ]
  },
  {
   "cell_type": "code",
   "execution_count": 12,
   "metadata": {
    "collapsed": false
   },
   "outputs": [
    {
     "name": "stdout",
     "output_type": "stream",
     "text": [
      "|--------------------+------------+---------------------------------------------------------+----------------+---------------+----------------------+-------------+----------|\n",
      "|  VICTIM            |    ADDRESS | COMMENTS                                                | TEAM AREA      | REPORT DATE   | INCIDENT TYPE        | CASE NUMBER | STATUS   |\n",
      "|--------------------+------------+---------------------------------------------------------+----------------+---------------+----------------------+-------------+----------|\n",
      "|  CVS PHARMACY      | 5611-01-01 | PUSHED EMPLOYEE/DEMANDED DRUGS                          | Southwest Team | 8/26/12 15:55 | ROBBERY - COMMERCIAL | B2-081107   | Cleared  |\n",
      "|  CVS PHARMACY      | 1411-01-01 | ARMED WITH GUN/DEMANDED PRESCRIPTION PILLS              | Northwest Team | 5/24/14 1:05  | ROBBERY - COMMERCIAL | B4-045273   | Active   |\n",
      "|  CVS PHARMACY      | 7002-01-01 | ENTERED STORE/CLAIMED TO HAVE BOMB/DEMANDED DRUGS       | Northeast Team | 6/28/14 6:45  | ROBBERY - COMMERCIAL | B4-057487   | Active   |\n",
      "|  CVS PHARMACY      | 1411-01-01 | SUSPECT HAD GUN/ DEMANDED MONEY                         | Northwest Team | 3/2/15 21:10  | ROBBERY - COMMERCIAL | B5-017697   | Cleared  |\n",
      "|  CVS PHARMACY      | 1550-01-01 | TASER BRANDISHED/DEMANDED MONEY FROM SAFE NO LOSS       | Southwest Team | 4/19/15 7:43  | ROBBERY - COMMERCIAL | B5-033412   | Active   |\n",
      "|  NATIONAL PHARMACY | 3306-01-01 | THREATENED WITH KNIFE/DEMANDED DRUGS                    | Southeast Team | 5/23/12 9:25  | ROBBERY - COMMERCIAL | B2-046092   | Active   |\n",
      "|  WALGREENS         | 4811-01-01 | ARMED SUSPECT DEMANDED DRUGS                            | Southeast Team | 5/29/11 13:59 | ROBBERY - COMMERCIAL | B1-048327   | Cleared  |\n",
      "|  WALGREENS         | 2630-01-01 | ATTEMPT ROBBERY BY PHONE                                | Southwest Team | 10/10/12      | ROBBERY - COMMERCIAL | B2-097777   | Active   |\n",
      "|  WALGREENS         | 1404-01-01 | HIT CLEARK/DEMANDED CIGARETTES                          | Northwest Team | 12/27/12 6:37 | ROBBERY - COMMERCIAL | B2-122260   | Cleared  |\n",
      "|  WALGREENS         | 1701-01-01 | HANDED NOTE DEMANDING DRUGS                             | Southwest Team | 12/31/12 8:46 | ROBBERY - COMMERCIAL | B2-123331   | Cleared  |\n",
      "|  WALGREENS         | 1701-01-01 | ATT TO LEAVE STORE W/UNPAID ITEMS/USED STUN GUN NO LOSS | Southwest Team | 5/13/15 18:49 | ROBBERY - COMMERCIAL | B5-041981   | Cleared  |\n",
      "|  WALGREENS         | 8101-01-01 | ATTEMPTED ROBBERY W/THREATS OF VIOLENCE NO LOSS         | Center Team    | 2/13/16 17:53 | ROBBERY - COMMERCIAL | B6-012622   | Cleared  |\n",
      "|--------------------+------------+---------------------------------------------------------+----------------+---------------+----------------------+-------------+----------|\n"
     ]
    }
   ],
   "source": [
    "pharmrobberies.order_by('VICTIM').print_table()"
   ]
  },
  {
   "cell_type": "code",
   "execution_count": 14,
   "metadata": {
    "collapsed": false
   },
   "outputs": [
    {
     "name": "stdout",
     "output_type": "stream",
     "text": [
      "|--------------------+------------+---------------------------------------------------------+----------------+---------------+----------------------+-------------+----------|\n",
      "|  VICTIM            |    ADDRESS | COMMENTS                                                | TEAM AREA      | REPORT DATE   | INCIDENT TYPE        | CASE NUMBER | STATUS   |\n",
      "|--------------------+------------+---------------------------------------------------------+----------------+---------------+----------------------+-------------+----------|\n",
      "|  WALGREENS         | 4811-01-01 | ARMED SUSPECT DEMANDED DRUGS                            | Southeast Team | 5/29/11 13:59 | ROBBERY - COMMERCIAL | B1-048327   | Cleared  |\n",
      "|  NATIONAL PHARMACY | 3306-01-01 | THREATENED WITH KNIFE/DEMANDED DRUGS                    | Southeast Team | 5/23/12 9:25  | ROBBERY - COMMERCIAL | B2-046092   | Active   |\n",
      "|  CVS PHARMACY      | 5611-01-01 | PUSHED EMPLOYEE/DEMANDED DRUGS                          | Southwest Team | 8/26/12 15:55 | ROBBERY - COMMERCIAL | B2-081107   | Cleared  |\n",
      "|  WALGREENS         | 2630-01-01 | ATTEMPT ROBBERY BY PHONE                                | Southwest Team | 10/10/12      | ROBBERY - COMMERCIAL | B2-097777   | Active   |\n",
      "|  WALGREENS         | 1404-01-01 | HIT CLEARK/DEMANDED CIGARETTES                          | Northwest Team | 12/27/12 6:37 | ROBBERY - COMMERCIAL | B2-122260   | Cleared  |\n",
      "|  WALGREENS         | 1701-01-01 | HANDED NOTE DEMANDING DRUGS                             | Southwest Team | 12/31/12 8:46 | ROBBERY - COMMERCIAL | B2-123331   | Cleared  |\n",
      "|  CVS PHARMACY      | 1411-01-01 | ARMED WITH GUN/DEMANDED PRESCRIPTION PILLS              | Northwest Team | 5/24/14 1:05  | ROBBERY - COMMERCIAL | B4-045273   | Active   |\n",
      "|  CVS PHARMACY      | 7002-01-01 | ENTERED STORE/CLAIMED TO HAVE BOMB/DEMANDED DRUGS       | Northeast Team | 6/28/14 6:45  | ROBBERY - COMMERCIAL | B4-057487   | Active   |\n",
      "|  CVS PHARMACY      | 1411-01-01 | SUSPECT HAD GUN/ DEMANDED MONEY                         | Northwest Team | 3/2/15 21:10  | ROBBERY - COMMERCIAL | B5-017697   | Cleared  |\n",
      "|  CVS PHARMACY      | 1550-01-01 | TASER BRANDISHED/DEMANDED MONEY FROM SAFE NO LOSS       | Southwest Team | 4/19/15 7:43  | ROBBERY - COMMERCIAL | B5-033412   | Active   |\n",
      "|  WALGREENS         | 1701-01-01 | ATT TO LEAVE STORE W/UNPAID ITEMS/USED STUN GUN NO LOSS | Southwest Team | 5/13/15 18:49 | ROBBERY - COMMERCIAL | B5-041981   | Cleared  |\n",
      "|  WALGREENS         | 8101-01-01 | ATTEMPTED ROBBERY W/THREATS OF VIOLENCE NO LOSS         | Center Team    | 2/13/16 17:53 | ROBBERY - COMMERCIAL | B6-012622   | Cleared  |\n",
      "|--------------------+------------+---------------------------------------------------------+----------------+---------------+----------------------+-------------+----------|\n"
     ]
    }
   ],
   "source": [
    "pharmrobberies.order_by('INCIDENT TYPE').print_table()"
   ]
  },
  {
   "cell_type": "code",
   "execution_count": 15,
   "metadata": {
    "collapsed": false
   },
   "outputs": [
    {
     "name": "stdout",
     "output_type": "stream",
     "text": [
      "|--------------------+------------+---------------------------------------------------------+----------------+---------------+----------------------+-------------+----------|\n",
      "|  VICTIM            |    ADDRESS | COMMENTS                                                | TEAM AREA      | REPORT DATE   | INCIDENT TYPE        | CASE NUMBER | STATUS   |\n",
      "|--------------------+------------+---------------------------------------------------------+----------------+---------------+----------------------+-------------+----------|\n",
      "|  WALGREENS         | 2630-01-01 | ATTEMPT ROBBERY BY PHONE                                | Southwest Team | 10/10/12      | ROBBERY - COMMERCIAL | B2-097777   | Active   |\n",
      "|  WALGREENS         | 1404-01-01 | HIT CLEARK/DEMANDED CIGARETTES                          | Northwest Team | 12/27/12 6:37 | ROBBERY - COMMERCIAL | B2-122260   | Cleared  |\n",
      "|  WALGREENS         | 1701-01-01 | HANDED NOTE DEMANDING DRUGS                             | Southwest Team | 12/31/12 8:46 | ROBBERY - COMMERCIAL | B2-123331   | Cleared  |\n",
      "|  WALGREENS         | 8101-01-01 | ATTEMPTED ROBBERY W/THREATS OF VIOLENCE NO LOSS         | Center Team    | 2/13/16 17:53 | ROBBERY - COMMERCIAL | B6-012622   | Cleared  |\n",
      "|  CVS PHARMACY      | 1411-01-01 | SUSPECT HAD GUN/ DEMANDED MONEY                         | Northwest Team | 3/2/15 21:10  | ROBBERY - COMMERCIAL | B5-017697   | Cleared  |\n",
      "|  CVS PHARMACY      | 1550-01-01 | TASER BRANDISHED/DEMANDED MONEY FROM SAFE NO LOSS       | Southwest Team | 4/19/15 7:43  | ROBBERY - COMMERCIAL | B5-033412   | Active   |\n",
      "|  WALGREENS         | 1701-01-01 | ATT TO LEAVE STORE W/UNPAID ITEMS/USED STUN GUN NO LOSS | Southwest Team | 5/13/15 18:49 | ROBBERY - COMMERCIAL | B5-041981   | Cleared  |\n",
      "|  NATIONAL PHARMACY | 3306-01-01 | THREATENED WITH KNIFE/DEMANDED DRUGS                    | Southeast Team | 5/23/12 9:25  | ROBBERY - COMMERCIAL | B2-046092   | Active   |\n",
      "|  CVS PHARMACY      | 1411-01-01 | ARMED WITH GUN/DEMANDED PRESCRIPTION PILLS              | Northwest Team | 5/24/14 1:05  | ROBBERY - COMMERCIAL | B4-045273   | Active   |\n",
      "|  WALGREENS         | 4811-01-01 | ARMED SUSPECT DEMANDED DRUGS                            | Southeast Team | 5/29/11 13:59 | ROBBERY - COMMERCIAL | B1-048327   | Cleared  |\n",
      "|  CVS PHARMACY      | 7002-01-01 | ENTERED STORE/CLAIMED TO HAVE BOMB/DEMANDED DRUGS       | Northeast Team | 6/28/14 6:45  | ROBBERY - COMMERCIAL | B4-057487   | Active   |\n",
      "|  CVS PHARMACY      | 5611-01-01 | PUSHED EMPLOYEE/DEMANDED DRUGS                          | Southwest Team | 8/26/12 15:55 | ROBBERY - COMMERCIAL | B2-081107   | Cleared  |\n",
      "|--------------------+------------+---------------------------------------------------------+----------------+---------------+----------------------+-------------+----------|\n"
     ]
    }
   ],
   "source": [
    "pharmrobberies.order_by('REPORT DATE').print_table()"
   ]
  },
  {
   "cell_type": "code",
   "execution_count": null,
   "metadata": {
    "collapsed": true
   },
   "outputs": [],
   "source": []
  }
 ],
 "metadata": {
  "kernelspec": {
   "display_name": "Python 3",
   "language": "python",
   "name": "python3"
  },
  "language_info": {
   "codemirror_mode": {
    "name": "ipython",
    "version": 3
   },
   "file_extension": ".py",
   "mimetype": "text/x-python",
   "name": "python",
   "nbconvert_exporter": "python",
   "pygments_lexer": "ipython3",
   "version": "3.5.1"
  }
 },
 "nbformat": 4,
 "nbformat_minor": 0
}
