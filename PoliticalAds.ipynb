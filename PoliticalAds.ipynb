{
 "cells": [
  {
   "cell_type": "code",
   "execution_count": 28,
   "metadata": {
    "collapsed": true
   },
   "outputs": [],
   "source": [
    "import agate\n"
   ]
  },
  {
   "cell_type": "code",
   "execution_count": 31,
   "metadata": {
    "collapsed": false,
    "scrolled": true
   },
   "outputs": [
    {
     "ename": "FileNotFoundError",
     "evalue": "[Errno 2] No such file or directory: 'GitHub/commercials.xlsx'",
     "output_type": "error",
     "traceback": [
      "\u001b[0;31m---------------------------------------------------------------------------\u001b[0m",
      "\u001b[0;31mFileNotFoundError\u001b[0m                         Traceback (most recent call last)",
      "\u001b[0;32m<ipython-input-31-d0069e41291d>\u001b[0m in \u001b[0;36m<module>\u001b[0;34m()\u001b[0m\n\u001b[0;32m----> 1\u001b[0;31m \u001b[0mcommercials\u001b[0m \u001b[0;34m=\u001b[0m \u001b[0magate\u001b[0m\u001b[0;34m.\u001b[0m\u001b[0mTable\u001b[0m\u001b[0;34m.\u001b[0m\u001b[0mfrom_csv\u001b[0m\u001b[0;34m(\u001b[0m\u001b[0;34m'GitHub/commercials.xlsx'\u001b[0m\u001b[0;34m)\u001b[0m\u001b[0;34m\u001b[0m\u001b[0m\n\u001b[0m",
      "\u001b[0;32m//anaconda/envs/homework/lib/python3.5/site-packages/agate/table.py\u001b[0m in \u001b[0;36mfrom_csv\u001b[0;34m(cls, path, column_names, column_types, row_names, header, **kwargs)\u001b[0m\n\u001b[1;32m    314\u001b[0m             \u001b[0mrows\u001b[0m \u001b[0;34m=\u001b[0m \u001b[0mlist\u001b[0m\u001b[0;34m(\u001b[0m\u001b[0mcsv\u001b[0m\u001b[0;34m.\u001b[0m\u001b[0mreader\u001b[0m\u001b[0;34m(\u001b[0m\u001b[0mpath\u001b[0m\u001b[0;34m,\u001b[0m \u001b[0;34m**\u001b[0m\u001b[0mkwargs\u001b[0m\u001b[0;34m)\u001b[0m\u001b[0;34m)\u001b[0m\u001b[0;34m\u001b[0m\u001b[0m\n\u001b[1;32m    315\u001b[0m         \u001b[0;32melse\u001b[0m\u001b[0;34m:\u001b[0m\u001b[0;34m\u001b[0m\u001b[0m\n\u001b[0;32m--> 316\u001b[0;31m             \u001b[0;32mwith\u001b[0m \u001b[0mopen\u001b[0m\u001b[0;34m(\u001b[0m\u001b[0mpath\u001b[0m\u001b[0;34m)\u001b[0m \u001b[0;32mas\u001b[0m \u001b[0mf\u001b[0m\u001b[0;34m:\u001b[0m\u001b[0;34m\u001b[0m\u001b[0m\n\u001b[0m\u001b[1;32m    317\u001b[0m                 \u001b[0mrows\u001b[0m \u001b[0;34m=\u001b[0m \u001b[0mlist\u001b[0m\u001b[0;34m(\u001b[0m\u001b[0mcsv\u001b[0m\u001b[0;34m.\u001b[0m\u001b[0mreader\u001b[0m\u001b[0;34m(\u001b[0m\u001b[0mf\u001b[0m\u001b[0;34m,\u001b[0m \u001b[0;34m**\u001b[0m\u001b[0mkwargs\u001b[0m\u001b[0;34m)\u001b[0m\u001b[0;34m)\u001b[0m\u001b[0;34m\u001b[0m\u001b[0m\n\u001b[1;32m    318\u001b[0m \u001b[0;34m\u001b[0m\u001b[0m\n",
      "\u001b[0;31mFileNotFoundError\u001b[0m: [Errno 2] No such file or directory: 'GitHub/commercials.xlsx'"
     ]
    }
   ],
   "source": [
    "commercials = agate.Table.from_csv('GitHub/commercials.xlsx')\n"
   ]
  },
  {
   "cell_type": "code",
   "execution_count": 32,
   "metadata": {
    "collapsed": false
   },
   "outputs": [
    {
     "name": "stdout",
     "output_type": "stream",
     "text": [
      "|----------------+---------------|\n",
      "|  column_names  | column_types  |\n",
      "|----------------+---------------|\n",
      "|  wp_identifier | Number        |\n",
      "|  network       | Text          |\n",
      "|  market        | Text          |\n",
      "|  location      | Text          |\n",
      "|  program       | Text          |\n",
      "|  program_type  | Text          |\n",
      "|  start_time    | Date          |\n",
      "|  end_time      | Date          |\n",
      "|  archive_id    | Text          |\n",
      "|  embed_url     | Text          |\n",
      "|  sponsor       | Text          |\n",
      "|  sponsor_type  | Text          |\n",
      "|  subject       | Text          |\n",
      "|  candidate     | Text          |\n",
      "|  type          | Text          |\n",
      "|  message       | Text          |\n",
      "|  air_count     | Number        |\n",
      "|  market_count  | Number        |\n",
      "|  date_created  | DateTime      |\n",
      "|----------------+---------------|\n",
      "\n"
     ]
    }
   ],
   "source": [
    "print(commercials)\n"
   ]
  },
  {
   "cell_type": "code",
   "execution_count": 33,
   "metadata": {
    "collapsed": true
   },
   "outputs": [],
   "source": [
    "commercials_with_months = commercials.compute([\n",
    "    ('month', agate.Formula(agate.Number(), lambda row: '%s' % row['start_time'].month))\n",
    "])"
   ]
  },
  {
   "cell_type": "markdown",
   "metadata": {},
   "source": [
    "I chose to look at which locations received the most ads in which month."
   ]
  },
  {
   "cell_type": "code",
   "execution_count": 34,
   "metadata": {
    "collapsed": true
   },
   "outputs": [],
   "source": [
    "by_location = commercials_with_months.group_by('location')\n"
   ]
  },
  {
   "cell_type": "code",
   "execution_count": 36,
   "metadata": {
    "collapsed": false
   },
   "outputs": [],
   "source": [
    "by_location_by_month = by_location.group_by('month')\n"
   ]
  },
  {
   "cell_type": "code",
   "execution_count": 37,
   "metadata": {
    "collapsed": true
   },
   "outputs": [],
   "source": [
    "location_month_totals = by_location_by_month.aggregate([\n",
    "    ('count', agate.Length())\n",
    "])\n"
   ]
  },
  {
   "cell_type": "code",
   "execution_count": 38,
   "metadata": {
    "collapsed": true
   },
   "outputs": [],
   "source": [
    "location_month_totals = location_month_totals.order_by(lambda row: (row['location'], row['month']))\n"
   ]
  },
  {
   "cell_type": "markdown",
   "metadata": {},
   "source": [
    "The above steps isolated the month and the location of the ads."
   ]
  },
  {
   "cell_type": "code",
   "execution_count": 39,
   "metadata": {
    "collapsed": false
   },
   "outputs": [
    {
     "name": "stdout",
     "output_type": "stream",
     "text": [
      "|----------------------------+-------+---------|\n",
      "|  location                  | month |  count  |\n",
      "|----------------------------+-------+---------|\n",
      "|  Boston, MA, USA           |     1 |  9,820  |\n",
      "|  Boston, MA, USA           |     2 |  4,655  |\n",
      "|  Boston, MA, USA           |     3 |     67  |\n",
      "|  Boston, MA, USA           |    10 |      5  |\n",
      "|  Boston, MA, USA           |    11 |    589  |\n",
      "|  Boston, MA, USA           |    12 |  5,847  |\n",
      "|  Cedar Rapids, IA, USA     |     1 | 10,820  |\n",
      "|  Cedar Rapids, IA, USA     |     2 |    611  |\n",
      "|  Cedar Rapids, IA, USA     |    10 |      4  |\n",
      "|  Cedar Rapids, IA, USA     |    11 |    471  |\n",
      "|  Cedar Rapids, IA, USA     |    12 |  3,848  |\n",
      "|  Charlotte, NC, USA        |     2 |    134  |\n",
      "|  Cincinnati, OH, USA       |     1 |    197  |\n",
      "|  Cincinnati, OH, USA       |     2 |    344  |\n",
      "|  Cincinnati, OH, USA       |     3 |     20  |\n",
      "|  Cleveland, OH, USA        |     1 |    246  |\n",
      "|  Cleveland, OH, USA        |     2 |    287  |\n",
      "|  Cleveland, OH, USA        |     3 |      7  |\n",
      "|  Colorado Springs, CO, USA |     1 |     15  |\n",
      "|  Colorado Springs, CO, USA |     2 |  1,088  |\n",
      "|  Colorado Springs, CO, USA |     3 |     70  |\n",
      "|  Columbia, SC, USA         |     1 |  2,056  |\n",
      "|  Columbia, SC, USA         |     2 |  7,499  |\n",
      "|  Columbia, SC, USA         |    12 |    109  |\n",
      "|  Denver, CO, USA           |     1 |     28  |\n",
      "|  Denver, CO, USA           |     2 |  1,484  |\n",
      "|  Denver, CO, USA           |     3 |     62  |\n",
      "|  Des Moines, IA, USA       |     1 | 10,890  |\n",
      "|  Des Moines, IA, USA       |     2 |    707  |\n",
      "|  Des Moines, IA, USA       |     3 |      1  |\n",
      "|  Des Moines, IA, USA       |    10 |      6  |\n",
      "|  Des Moines, IA, USA       |    11 |    433  |\n",
      "|  Des Moines, IA, USA       |    12 |  3,827  |\n",
      "|  Greenville, SC, USA       |     1 |  1,628  |\n",
      "|  Greenville, SC, USA       |     2 |  6,351  |\n",
      "|  Greenville, SC, USA       |    12 |     92  |\n",
      "|  Las Vegas, NV, USA        |     1 |  1,793  |\n",
      "|  Las Vegas, NV, USA        |     2 |  4,842  |\n",
      "|  Las Vegas, NV, USA        |    12 |     24  |\n",
      "|  Miami, FL, USA            |     1 |     42  |\n",
      "|  Miami, FL, USA            |     2 |    155  |\n",
      "|  Miami, FL, USA            |     3 |     27  |\n",
      "|  New York, NY, USA         |     1 |     30  |\n",
      "|  New York, NY, USA         |     2 |     25  |\n",
      "|  New York, NY, USA         |     3 |      1  |\n",
      "|  New York, NY, USA         |    11 |      1  |\n",
      "|  New York, NY, USA         |    12 |     33  |\n",
      "|  Norfolk, VA, USA          |     1 |     19  |\n",
      "|  Norfolk, VA, USA          |     2 |    666  |\n",
      "|  Norfolk, VA, USA          |     3 |    139  |\n",
      "|  Orlando, FL, USA          |     1 |     26  |\n",
      "|  Orlando, FL, USA          |     2 |    206  |\n",
      "|  Orlando, FL, USA          |     3 |     76  |\n",
      "|  Philadelphia, PA, USA     |     1 |     53  |\n",
      "|  Philadelphia, PA, USA     |     2 |     51  |\n",
      "|  Philadelphia, PA, USA     |     3 |      6  |\n",
      "|  Philadelphia, PA, USA     |    11 |      4  |\n",
      "|  Philadelphia, PA, USA     |    12 |    113  |\n",
      "|  Raleigh, NC, USA          |     1 |     12  |\n",
      "|  Raleigh, NC, USA          |     2 |    351  |\n",
      "|  Raleigh, NC, USA          |     3 |     30  |\n",
      "|  Reno, NV, USA             |     1 |  2,042  |\n",
      "|  Reno, NV, USA             |     2 |  3,781  |\n",
      "|  Reno, NV, USA             |     3 |      1  |\n",
      "|  Roanoke, VA, USA          |     1 |      5  |\n",
      "|  Roanoke, VA, USA          |     2 |    313  |\n",
      "|  Roanoke, VA, USA          |     3 |     37  |\n",
      "|  San Francisco, CA, USA    |     1 |  1,977  |\n",
      "|  San Francisco, CA, USA    |     2 |  1,791  |\n",
      "|  San Francisco, CA, USA    |     3 |     63  |\n",
      "|  San Francisco, CA, USA    |    10 |      3  |\n",
      "|  San Francisco, CA, USA    |    11 |    139  |\n",
      "|  San Francisco, CA, USA    |    12 |  1,229  |\n",
      "|  Sioux City, IA, USA       |     1 |  8,981  |\n",
      "|  Sioux City, IA, USA       |     2 |    637  |\n",
      "|  Sioux City, IA, USA       |    11 |    166  |\n",
      "|  Sioux City, IA, USA       |    12 |  2,857  |\n",
      "|  Tampa, FL, USA            |     1 |     33  |\n",
      "|  Tampa, FL, USA            |     2 |    226  |\n",
      "|  Tampa, FL, USA            |     3 |     62  |\n",
      "|  Woodbridge, VA, USA       |     1 |     23  |\n",
      "|  Woodbridge, VA, USA       |     2 |    658  |\n",
      "|  Woodbridge, VA, USA       |     3 |     61  |\n",
      "|  Woodbridge, VA, USA       |    11 |      1  |\n",
      "|  Woodbridge, VA, USA       |    12 |     29  |\n",
      "|----------------------------+-------+---------|\n"
     ]
    }
   ],
   "source": [
    "location_month_totals.print_table()\n"
   ]
  },
  {
   "cell_type": "code",
   "execution_count": 50,
   "metadata": {
    "collapsed": false
   },
   "outputs": [],
   "source": [
    "sorted_locations = location_month_totals.order_by('count', reverse=True)"
   ]
  },
  {
   "cell_type": "code",
   "execution_count": 51,
   "metadata": {
    "collapsed": false
   },
   "outputs": [
    {
     "name": "stdout",
     "output_type": "stream",
     "text": [
      "|----------------------------+-------+---------|\n",
      "|  location                  | month |  count  |\n",
      "|----------------------------+-------+---------|\n",
      "|  Des Moines, IA, USA       |     1 | 10,890  |\n",
      "|  Cedar Rapids, IA, USA     |     1 | 10,820  |\n",
      "|  Boston, MA, USA           |     1 |  9,820  |\n",
      "|  Sioux City, IA, USA       |     1 |  8,981  |\n",
      "|  Columbia, SC, USA         |     2 |  7,499  |\n",
      "|  Greenville, SC, USA       |     2 |  6,351  |\n",
      "|  Boston, MA, USA           |    12 |  5,847  |\n",
      "|  Las Vegas, NV, USA        |     2 |  4,842  |\n",
      "|  Boston, MA, USA           |     2 |  4,655  |\n",
      "|  Cedar Rapids, IA, USA     |    12 |  3,848  |\n",
      "|  Des Moines, IA, USA       |    12 |  3,827  |\n",
      "|  Reno, NV, USA             |     2 |  3,781  |\n",
      "|  Sioux City, IA, USA       |    12 |  2,857  |\n",
      "|  Columbia, SC, USA         |     1 |  2,056  |\n",
      "|  Reno, NV, USA             |     1 |  2,042  |\n",
      "|  San Francisco, CA, USA    |     1 |  1,977  |\n",
      "|  Las Vegas, NV, USA        |     1 |  1,793  |\n",
      "|  San Francisco, CA, USA    |     2 |  1,791  |\n",
      "|  Greenville, SC, USA       |     1 |  1,628  |\n",
      "|  Denver, CO, USA           |     2 |  1,484  |\n",
      "|  San Francisco, CA, USA    |    12 |  1,229  |\n",
      "|  Colorado Springs, CO, USA |     2 |  1,088  |\n",
      "|  Des Moines, IA, USA       |     2 |    707  |\n",
      "|  Norfolk, VA, USA          |     2 |    666  |\n",
      "|  Woodbridge, VA, USA       |     2 |    658  |\n",
      "|  Sioux City, IA, USA       |     2 |    637  |\n",
      "|  Cedar Rapids, IA, USA     |     2 |    611  |\n",
      "|  Boston, MA, USA           |    11 |    589  |\n",
      "|  Cedar Rapids, IA, USA     |    11 |    471  |\n",
      "|  Des Moines, IA, USA       |    11 |    433  |\n",
      "|  Raleigh, NC, USA          |     2 |    351  |\n",
      "|  Cincinnati, OH, USA       |     2 |    344  |\n",
      "|  Roanoke, VA, USA          |     2 |    313  |\n",
      "|  Cleveland, OH, USA        |     2 |    287  |\n",
      "|  Cleveland, OH, USA        |     1 |    246  |\n",
      "|  Tampa, FL, USA            |     2 |    226  |\n",
      "|  Orlando, FL, USA          |     2 |    206  |\n",
      "|  Cincinnati, OH, USA       |     1 |    197  |\n",
      "|  Sioux City, IA, USA       |    11 |    166  |\n",
      "|  Miami, FL, USA            |     2 |    155  |\n",
      "|  Norfolk, VA, USA          |     3 |    139  |\n",
      "|  San Francisco, CA, USA    |    11 |    139  |\n",
      "|  Charlotte, NC, USA        |     2 |    134  |\n",
      "|  Philadelphia, PA, USA     |    12 |    113  |\n",
      "|  Columbia, SC, USA         |    12 |    109  |\n",
      "|  Greenville, SC, USA       |    12 |     92  |\n",
      "|  Orlando, FL, USA          |     3 |     76  |\n",
      "|  Colorado Springs, CO, USA |     3 |     70  |\n",
      "|  Boston, MA, USA           |     3 |     67  |\n",
      "|  San Francisco, CA, USA    |     3 |     63  |\n",
      "|  Denver, CO, USA           |     3 |     62  |\n",
      "|  Tampa, FL, USA            |     3 |     62  |\n",
      "|  Woodbridge, VA, USA       |     3 |     61  |\n",
      "|  Philadelphia, PA, USA     |     1 |     53  |\n",
      "|  Philadelphia, PA, USA     |     2 |     51  |\n",
      "|  Miami, FL, USA            |     1 |     42  |\n",
      "|  Roanoke, VA, USA          |     3 |     37  |\n",
      "|  New York, NY, USA         |    12 |     33  |\n",
      "|  Tampa, FL, USA            |     1 |     33  |\n",
      "|  New York, NY, USA         |     1 |     30  |\n",
      "|  Raleigh, NC, USA          |     3 |     30  |\n",
      "|  Woodbridge, VA, USA       |    12 |     29  |\n",
      "|  Denver, CO, USA           |     1 |     28  |\n",
      "|  Miami, FL, USA            |     3 |     27  |\n",
      "|  Orlando, FL, USA          |     1 |     26  |\n",
      "|  New York, NY, USA         |     2 |     25  |\n",
      "|  Las Vegas, NV, USA        |    12 |     24  |\n",
      "|  Woodbridge, VA, USA       |     1 |     23  |\n",
      "|  Cincinnati, OH, USA       |     3 |     20  |\n",
      "|  Norfolk, VA, USA          |     1 |     19  |\n",
      "|  Colorado Springs, CO, USA |     1 |     15  |\n",
      "|  Raleigh, NC, USA          |     1 |     12  |\n",
      "|  Cleveland, OH, USA        |     3 |      7  |\n",
      "|  Des Moines, IA, USA       |    10 |      6  |\n",
      "|  Philadelphia, PA, USA     |     3 |      6  |\n",
      "|  Boston, MA, USA           |    10 |      5  |\n",
      "|  Roanoke, VA, USA          |     1 |      5  |\n",
      "|  Cedar Rapids, IA, USA     |    10 |      4  |\n",
      "|  Philadelphia, PA, USA     |    11 |      4  |\n",
      "|  San Francisco, CA, USA    |    10 |      3  |\n",
      "|  Des Moines, IA, USA       |     3 |      1  |\n",
      "|  New York, NY, USA         |     3 |      1  |\n",
      "|  New York, NY, USA         |    11 |      1  |\n",
      "|  Reno, NV, USA             |     3 |      1  |\n",
      "|  Woodbridge, VA, USA       |    11 |      1  |\n",
      "|----------------------------+-------+---------|\n"
     ]
    }
   ],
   "source": [
    "sorted_locations.print_table()"
   ]
  },
  {
   "cell_type": "markdown",
   "metadata": {},
   "source": [
    "After the initial print, I sorted by most ads."
   ]
  },
  {
   "cell_type": "code",
   "execution_count": 2,
   "metadata": {
    "collapsed": true
   },
   "outputs": [],
   "source": [
    "import agate"
   ]
  },
  {
   "cell_type": "code",
   "execution_count": null,
   "metadata": {
    "collapsed": true
   },
   "outputs": [],
   "source": [
    "tester = agate.TypeTester (limit=100)\n",
    "commercials"
   ]
  }
 ],
 "metadata": {
  "kernelspec": {
   "display_name": "Python 3",
   "language": "python",
   "name": "python3"
  },
  "language_info": {
   "codemirror_mode": {
    "name": "ipython",
    "version": 3
   },
   "file_extension": ".py",
   "mimetype": "text/x-python",
   "name": "python",
   "nbconvert_exporter": "python",
   "pygments_lexer": "ipython3",
   "version": "3.5.1"
  }
 },
 "nbformat": 4,
 "nbformat_minor": 0
}
