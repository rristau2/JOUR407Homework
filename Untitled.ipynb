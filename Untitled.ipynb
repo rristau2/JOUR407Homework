{
 "cells": [
  {
   "cell_type": "code",
   "execution_count": 1,
   "metadata": {
    "collapsed": true
   },
   "outputs": [],
   "source": [
    "import agate"
   ]
  },
  {
   "cell_type": "code",
   "execution_count": null,
   "metadata": {
    "collapsed": true
   },
   "outputs": [],
   "source": [
    "tester = agate.TableTester(limit=100)\n",
    "commercials = agate.Table.from_csv('commercials.csv', column_types=tester)"
   ]
  },
  {
   "cell_type": "code",
   "execution_count": 6,
   "metadata": {
    "collapsed": false
   },
   "outputs": [
    {
     "name": "stdout",
     "output_type": "stream",
     "text": [
      "|----------------+---------------|\n",
      "|  column_names  | column_types  |\n",
      "|----------------+---------------|\n",
      "|  wp_identifier | Number        |\n",
      "|  network       | Text          |\n",
      "|  market        | Text          |\n",
      "|  location      | Text          |\n",
      "|  program       | Text          |\n",
      "|  program_type  | Text          |\n",
      "|  start_time    | Date          |\n",
      "|  end_time      | Date          |\n",
      "|  archive_id    | Text          |\n",
      "|  embed_url     | Text          |\n",
      "|  sponsor       | Text          |\n",
      "|  sponsor_type  | Text          |\n",
      "|  subject       | Text          |\n",
      "|  candidate     | Text          |\n",
      "|  type          | Text          |\n",
      "|  message       | Text          |\n",
      "|  air_count     | Number        |\n",
      "|  market_count  | Number        |\n",
      "|  date_created  | Date          |\n",
      "|----------------+---------------|\n",
      "\n"
     ]
    }
   ],
   "source": [
    "print(commercials)"
   ]
  },
  {
   "cell_type": "code",
   "execution_count": 8,
   "metadata": {
    "collapsed": false,
    "scrolled": false
   },
   "outputs": [],
   "source": [
    "import seaborn as sns\n",
    "import matplotlib.pyplot as plt\n",
    "import pandas as pd\n",
    "\n",
    "sns.set(style=\"ticks\")\n",
    "%matplotlib inline\n",
    "ml = pd.read_csv('commercials.csv')"
   ]
  },
  {
   "cell_type": "code",
   "execution_count": null,
   "metadata": {
    "collapsed": false
   },
   "outputs": [],
   "source": [
    "sns.set_style(\"whitegrid\")\n",
    "sns.set_color_codes(\"dark\")\n",
    "g = sns.FacetGrid(ml, col=\"program\", row=\"message\")"
   ]
  },
  {
   "cell_type": "code",
   "execution_count": null,
   "metadata": {
    "collapsed": true
   },
   "outputs": [],
   "source": []
  }
 ],
 "metadata": {
  "kernelspec": {
   "display_name": "Python 3",
   "language": "python",
   "name": "python3"
  },
  "language_info": {
   "codemirror_mode": {
    "name": "ipython",
    "version": 3
   },
   "file_extension": ".py",
   "mimetype": "text/x-python",
   "name": "python",
   "nbconvert_exporter": "python",
   "pygments_lexer": "ipython3",
   "version": "3.5.1"
  }
 },
 "nbformat": 4,
 "nbformat_minor": 0
}
