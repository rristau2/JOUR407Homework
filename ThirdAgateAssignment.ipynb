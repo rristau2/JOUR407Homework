{
 "cells": [
  {
   "cell_type": "code",
   "execution_count": 1,
   "metadata": {
    "collapsed": true
   },
   "outputs": [],
   "source": [
    "import agate"
   ]
  },
  {
   "cell_type": "code",
   "execution_count": 4,
   "metadata": {
    "collapsed": false
   },
   "outputs": [],
   "source": [
    "population_table = agate.Table.from_csv('downloads/population.csv')\n"
   ]
  },
  {
   "cell_type": "code",
   "execution_count": 5,
   "metadata": {
    "collapsed": false
   },
   "outputs": [
    {
     "name": "stdout",
     "output_type": "stream",
     "text": [
      "|------------------+---------------|\n",
      "|  column_names    | column_types  |\n",
      "|------------------+---------------|\n",
      "|  STNAME          | Text          |\n",
      "|  CTYNAME         | Text          |\n",
      "|  POPESTIMATE2010 | Number        |\n",
      "|  POPESTIMATE2011 | Number        |\n",
      "|  POPESTIMATE2012 | Number        |\n",
      "|  POPESTIMATE2013 | Number        |\n",
      "|  POPESTIMATE2014 | Number        |\n",
      "|------------------+---------------|\n",
      "\n"
     ]
    }
   ],
   "source": [
    "print(population_table)"
   ]
  },
  {
   "cell_type": "code",
   "execution_count": 6,
   "metadata": {
    "collapsed": true
   },
   "outputs": [],
   "source": [
    "change1014 = population_table.compute([\n",
    "    ('pop_change_1014', agate.PercentChange('POPESTIMATE2010', 'POPESTIMATE2014'))\n",
    "])"
   ]
  },
  {
   "cell_type": "code",
   "execution_count": 7,
   "metadata": {
    "collapsed": false,
    "scrolled": true
   },
   "outputs": [
    {
     "name": "stdout",
     "output_type": "stream",
     "text": [
      "|----------+-----------------+-----------------+-----------------+-----------------+-----------------+-----------------+---------------------------------|\n",
      "|  STNAME  | CTYNAME         | POPESTIMATE2010 | POPESTIMATE2011 | POPESTIMATE2012 | POPESTIMATE2013 | POPESTIMATE2014 |                pop_change_1014  |\n",
      "|----------+-----------------+-----------------+-----------------+-----------------+-----------------+-----------------+---------------------------------|\n",
      "|  Alabama | Autauga County  |          54,684 |          55,275 |          55,192 |          55,136 |          55,395 |  1.300197498354180381830151415  |\n",
      "|  Alabama | Baldwin County  |         183,216 |         186,694 |         190,561 |         195,443 |         200,111 |  9.221356213431141385031874945  |\n",
      "|  Alabama | Barbour County  |          27,336 |          27,225 |          27,169 |          26,978 |          26,887 | -1.642522680714076675446297922  |\n",
      "|  Alabama | Bibb County     |          22,879 |          22,740 |          22,634 |          22,504 |          22,506 | -1.630316010315136151055553127  |\n",
      "|  Alabama | Blount County   |          57,344 |          57,694 |          57,748 |          57,720 |          57,719 |  0.653948102678571428571428571  |\n",
      "|  Alabama | Bullock County  |          10,886 |          10,623 |          10,589 |          10,605 |          10,764 | -1.120705493294139261436707698  |\n",
      "|  Alabama | Butler County   |          20,945 |          20,676 |          20,409 |          20,289 |          20,296 | -3.098591549295774647887323944  |\n",
      "|  Alabama | Calhoun County  |         118,443 |         117,760 |         117,264 |         116,547 |         115,916 | -2.133515699534797328672863740  |\n",
      "|  Alabama | Chambers County |          34,111 |          34,004 |          34,087 |          34,175 |          34,076 | -0.102606197414323825159039606  |\n",
      "|  Alabama | Cherokee County |          25,968 |          26,073 |          26,017 |          26,115 |          26,037 |  0.265711645101663585951940850  |\n",
      "|  ...     | ...             |             ... |             ... |             ... |             ... |             ... |                            ...  |\n",
      "|----------+-----------------+-----------------+-----------------+-----------------+-----------------+-----------------+---------------------------------|\n"
     ]
    }
   ],
   "source": [
    "change1014.print_table(max_rows=10)"
   ]
  },
  {
   "cell_type": "code",
   "execution_count": 11,
   "metadata": {
    "collapsed": false
   },
   "outputs": [
    {
     "ename": "ValueError",
     "evalue": "Duplicate column names are not allowed.",
     "output_type": "error",
     "traceback": [
      "\u001b[0;31m---------------------------------------------------------------------------\u001b[0m",
      "\u001b[0;31mValueError\u001b[0m                                Traceback (most recent call last)",
      "\u001b[0;32m<ipython-input-11-109780271000>\u001b[0m in \u001b[0;36m<module>\u001b[0;34m()\u001b[0m\n\u001b[1;32m      4\u001b[0m \u001b[0;34m\u001b[0m\u001b[0m\n\u001b[1;32m      5\u001b[0m ratechange1014 = population_table.compute([\n\u001b[0;32m----> 6\u001b[0;31m     \u001b[0;34m(\u001b[0m\u001b[0;34m'POPESTIMATE2014'\u001b[0m\u001b[0;34m,\u001b[0m \u001b[0magate\u001b[0m\u001b[0;34m.\u001b[0m\u001b[0mFormula\u001b[0m\u001b[0;34m(\u001b[0m\u001b[0magate\u001b[0m\u001b[0;34m.\u001b[0m\u001b[0mNumber\u001b[0m\u001b[0;34m(\u001b[0m\u001b[0;34m)\u001b[0m\u001b[0;34m,\u001b[0m \u001b[0mpop_rate_14\u001b[0m\u001b[0;34m)\u001b[0m\u001b[0;34m)\u001b[0m\u001b[0;34m\u001b[0m\u001b[0m\n\u001b[0m\u001b[1;32m      7\u001b[0m ])\n",
      "\u001b[0;32m//anaconda/envs/homework/lib/python3.5/site-packages/agate/table.py\u001b[0m in \u001b[0;36mcompute\u001b[0;34m(self, computations)\u001b[0m\n\u001b[1;32m   1026\u001b[0m             \u001b[0mnew_rows\u001b[0m\u001b[0;34m.\u001b[0m\u001b[0mappend\u001b[0m\u001b[0;34m(\u001b[0m\u001b[0mRow\u001b[0m\u001b[0;34m(\u001b[0m\u001b[0mvalues\u001b[0m\u001b[0;34m,\u001b[0m \u001b[0mcolumn_names\u001b[0m\u001b[0;34m)\u001b[0m\u001b[0;34m)\u001b[0m\u001b[0;34m\u001b[0m\u001b[0m\n\u001b[1;32m   1027\u001b[0m \u001b[0;34m\u001b[0m\u001b[0m\n\u001b[0;32m-> 1028\u001b[0;31m         \u001b[0;32mreturn\u001b[0m \u001b[0mself\u001b[0m\u001b[0;34m.\u001b[0m\u001b[0m_fork\u001b[0m\u001b[0;34m(\u001b[0m\u001b[0mnew_rows\u001b[0m\u001b[0;34m,\u001b[0m \u001b[0mcolumn_names\u001b[0m\u001b[0;34m,\u001b[0m \u001b[0mcolumn_types\u001b[0m\u001b[0;34m)\u001b[0m\u001b[0;34m\u001b[0m\u001b[0m\n\u001b[0m\u001b[1;32m   1029\u001b[0m \u001b[0;34m\u001b[0m\u001b[0m\n\u001b[1;32m   1030\u001b[0m     \u001b[0;34m@\u001b[0m\u001b[0mallow_tableset_proxy\u001b[0m\u001b[0;34m\u001b[0m\u001b[0m\n",
      "\u001b[0;32m//anaconda/envs/homework/lib/python3.5/site-packages/agate/table.py\u001b[0m in \u001b[0;36m_fork\u001b[0;34m(self, rows, column_names, column_types, row_names)\u001b[0m\n\u001b[1;32m    266\u001b[0m             \u001b[0mrow_names\u001b[0m \u001b[0;34m=\u001b[0m \u001b[0mself\u001b[0m\u001b[0;34m.\u001b[0m\u001b[0m_row_names\u001b[0m\u001b[0;34m\u001b[0m\u001b[0m\n\u001b[1;32m    267\u001b[0m \u001b[0;34m\u001b[0m\u001b[0m\n\u001b[0;32m--> 268\u001b[0;31m         \u001b[0;32mreturn\u001b[0m \u001b[0mTable\u001b[0m\u001b[0;34m(\u001b[0m\u001b[0mrows\u001b[0m\u001b[0;34m,\u001b[0m \u001b[0mcolumn_names\u001b[0m\u001b[0;34m,\u001b[0m \u001b[0mcolumn_types\u001b[0m\u001b[0;34m,\u001b[0m \u001b[0mrow_names\u001b[0m\u001b[0;34m=\u001b[0m\u001b[0mrow_names\u001b[0m\u001b[0;34m,\u001b[0m \u001b[0m_is_fork\u001b[0m\u001b[0;34m=\u001b[0m\u001b[0;32mTrue\u001b[0m\u001b[0;34m)\u001b[0m\u001b[0;34m\u001b[0m\u001b[0m\n\u001b[0m\u001b[1;32m    269\u001b[0m \u001b[0;34m\u001b[0m\u001b[0m\n\u001b[1;32m    270\u001b[0m     \u001b[0;32mdef\u001b[0m \u001b[0mrename\u001b[0m\u001b[0;34m(\u001b[0m\u001b[0mself\u001b[0m\u001b[0;34m,\u001b[0m \u001b[0mcolumn_names\u001b[0m\u001b[0;34m=\u001b[0m\u001b[0;32mNone\u001b[0m\u001b[0;34m,\u001b[0m \u001b[0mrow_names\u001b[0m\u001b[0;34m=\u001b[0m\u001b[0;32mNone\u001b[0m\u001b[0;34m)\u001b[0m\u001b[0;34m:\u001b[0m\u001b[0;34m\u001b[0m\u001b[0m\n",
      "\u001b[0;32m//anaconda/envs/homework/lib/python3.5/site-packages/agate/table.py\u001b[0m in \u001b[0;36m__init__\u001b[0;34m(self, rows, column_names, column_types, row_names, _is_fork)\u001b[0m\n\u001b[1;32m    107\u001b[0m \u001b[0;34m\u001b[0m\u001b[0m\n\u001b[1;32m    108\u001b[0m             \u001b[0;32mif\u001b[0m \u001b[0mlen\u001b[0m\u001b[0;34m(\u001b[0m\u001b[0mset\u001b[0m\u001b[0;34m(\u001b[0m\u001b[0mcolumn_names\u001b[0m\u001b[0;34m)\u001b[0m\u001b[0;34m)\u001b[0m \u001b[0;34m!=\u001b[0m \u001b[0mlen\u001b[0m\u001b[0;34m(\u001b[0m\u001b[0mcolumn_names\u001b[0m\u001b[0;34m)\u001b[0m\u001b[0;34m:\u001b[0m\u001b[0;34m\u001b[0m\u001b[0m\n\u001b[0;32m--> 109\u001b[0;31m                 \u001b[0;32mraise\u001b[0m \u001b[0mValueError\u001b[0m\u001b[0;34m(\u001b[0m\u001b[0;34m'Duplicate column names are not allowed.'\u001b[0m\u001b[0;34m)\u001b[0m\u001b[0;34m\u001b[0m\u001b[0m\n\u001b[0m\u001b[1;32m    110\u001b[0m \u001b[0;34m\u001b[0m\u001b[0m\n\u001b[1;32m    111\u001b[0m             \u001b[0mself\u001b[0m\u001b[0;34m.\u001b[0m\u001b[0m_column_names\u001b[0m \u001b[0;34m=\u001b[0m \u001b[0mtuple\u001b[0m\u001b[0;34m(\u001b[0m\u001b[0mcolumn_names\u001b[0m\u001b[0;34m)\u001b[0m\u001b[0;34m\u001b[0m\u001b[0m\n",
      "\u001b[0;31mValueError\u001b[0m: Duplicate column names are not allowed."
     ]
    }
   ],
   "source": [
    "def pop_rate_14(row):\n",
    "    rate = (row['POPESTIMATE2014']/row['POPESTIMATE2010'])*100000\n",
    "    return rate\n",
    "\n",
    "ratechange1014 = population_table.compute([\n",
    "    ('POPESTIMATE2014', agate.Formula(agate.Number(), pop_rate_14))\n",
    "])"
   ]
  },
  {
   "cell_type": "code",
   "execution_count": null,
   "metadata": {
    "collapsed": true
   },
   "outputs": [],
   "source": []
  }
 ],
 "metadata": {
  "kernelspec": {
   "display_name": "Python 3",
   "language": "python",
   "name": "python3"
  },
  "language_info": {
   "codemirror_mode": {
    "name": "ipython",
    "version": 3
   },
   "file_extension": ".py",
   "mimetype": "text/x-python",
   "name": "python",
   "nbconvert_exporter": "python",
   "pygments_lexer": "ipython3",
   "version": "3.5.1"
  }
 },
 "nbformat": 4,
 "nbformat_minor": 0
}
